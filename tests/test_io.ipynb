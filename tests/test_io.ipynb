{
 "cells": [
  {
   "cell_type": "code",
   "execution_count": null,
   "metadata": {
    "collapsed": false
   },
   "outputs": [],
   "source": [
    "# setup\n",
    "from pyciss import io, ringcube\n",
    "from pyciss.opusapi import OPUS\n",
    "import tempfile\n",
    "from pathlib import Path\n",
    "tmpdir = tempfile.TemporaryDirectory()\n",
    "opus = OPUS()\n",
    "img_id = 'N1695760475'\n",
    "opus.query_image_id(img_id)\n",
    "opus.download_results(savedir = tmpdir.name)"
   ]
  },
  {
   "cell_type": "code",
   "execution_count": null,
   "metadata": {
    "collapsed": false
   },
   "outputs": [],
   "source": [
    "# test_PathManager\n",
    "# This test illustrates how the Pathmanager can be used to find where data is located\n",
    "# This should only be required in rare cases.\n",
    "pathmanager = io.PathManager(img_id, savedir=tmpdir.name)\n",
    "assert pathmanager.basepath == Path(tmpdir.name) / img_id\n",
    "assert pathmanager.raw_image == Path(tmpdir.name) / img_id / (img_id+'_1.IMG')\n",
    "assert pathmanager.cubepath == Path(tmpdir.name) / img_id / (img_id+'_1.cal.dst.map.cub')"
   ]
  },
  {
   "cell_type": "code",
   "execution_count": null,
   "metadata": {
    "collapsed": false
   },
   "outputs": [],
   "source": []
  }
 ],
 "metadata": {
  "anaconda-cloud": {},
  "kernelspec": {
   "display_name": "Python [conda env:stable]",
   "language": "python",
   "name": "conda-env-stable-py"
  },
  "language_info": {
   "codemirror_mode": {
    "name": "ipython",
    "version": 3
   },
   "file_extension": ".py",
   "mimetype": "text/x-python",
   "name": "python",
   "nbconvert_exporter": "python",
   "pygments_lexer": "ipython3",
   "version": "3.5.2"
  }
 },
 "nbformat": 4,
 "nbformat_minor": 0
}
