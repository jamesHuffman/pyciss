{
 "cells": [
  {
   "cell_type": "code",
   "execution_count": null,
   "metadata": {
    "collapsed": false
   },
   "outputs": [],
   "source": [
    "# setup\n",
    "from pyciss import io, ringcube\n",
    "from pyciss.opusapi import OPUS\n",
    "import tempfile\n",
    "from pathlib import Path\n",
    "tmpdir = tempfile.TemporaryDirectory()\n",
    "opus = OPUS()\n",
    "opus.query_image_id('N1695760475_1')\n",
    "opus.download_results(savedir = tmpdir.name)"
   ]
  },
  {
   "cell_type": "code",
   "execution_count": null,
   "metadata": {
    "collapsed": false
   },
   "outputs": [],
   "source": [
    "# test_image_time\n",
    "import datetime as dt\n",
    "pathmanager = io.PathManager('N1695760475')\n",
    "# cube = ringcube.RingCube(pathmanager.cal_cub)\n",
    "# assert cube.imagetime == dt.datetime(2004, 7, 1, 3, 33, 9, 285000)"
   ]
  }
 ],
 "metadata": {
  "kernelspec": {
   "display_name": "Python 3",
   "language": "python",
   "name": "python3"
  },
  "language_info": {
   "codemirror_mode": {
    "name": "ipython",
    "version": 3
   },
   "file_extension": ".py",
   "mimetype": "text/x-python",
   "name": "python",
   "nbconvert_exporter": "python",
   "pygments_lexer": "ipython3",
   "version": "3.5.1"
  }
 },
 "nbformat": 4,
 "nbformat_minor": 0
}
